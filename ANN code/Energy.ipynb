{
 "cells": [
  {
   "cell_type": "markdown",
   "metadata": {},
   "source": [
    "# ENERGY OPTIMIZATION OF MOBILE OS"
   ]
  },
  {
   "cell_type": "code",
   "execution_count": 68,
   "metadata": {},
   "outputs": [],
   "source": [
    "import numpy as np\n",
    "import random\n",
    "import matplotlib.pyplot as plt"
   ]
  },
  {
   "cell_type": "code",
   "execution_count": 69,
   "metadata": {},
   "outputs": [],
   "source": [
    "def sigmoid(z):\n",
    "    return 1 / (1 + np.exp(-z))\n",
    "\n",
    "\n",
    "class NeuralNetwork(object):\n",
    "    def __init__(self, cell_num_list):\n",
    "        self.__layer_num = len(cell_num_list) - 1\n",
    "        self.__weight_list = []\n",
    "        self.__bias_list = []\n",
    "        for i in range(self.__layer_num):\n",
    "            weight = np.random.normal(size=(cell_num_list[i], cell_num_list[i + 1]))\n",
    "            bias = np.zeros((1, cell_num_list[i + 1]))\n",
    "            self.__weight_list.append(weight)\n",
    "            self.__bias_list.append(bias)\n",
    "\n",
    "    def predict(self, x):\n",
    "        if len(x.shape) == 1:\n",
    "            x.reshape(-1, len(x))\n",
    "        a = x\n",
    "        for i in range(self.__layer_num):\n",
    "            z = np.dot(a, self.__weight_list[i]) + self.__bias_list[i]\n",
    "            a = sigmoid(z)\n",
    "        return a\n",
    "\n",
    "    def __CostGradient(self, x, y):\n",
    "        a_list = []\n",
    "        a = x\n",
    "        for i in range(self.__layer_num):\n",
    "            a_list.append(a)\n",
    "            z = np.dot(a, self.__weight_list[i]) + self.__bias_list[i]\n",
    "            a = sigmoid(z)\n",
    "        cost = np.sum((y - a) ** 2) / 2 / len(a)\n",
    "        delta_list = []\n",
    "        delta = (a - y) * a * (1 - a)\n",
    "        for i in range(self.__layer_num):\n",
    "            delta_list.append(delta)\n",
    "            delta = np.dot(delta, self.__weight_list[-1 - i].T) * a_list[-1 - i] * (1 - a_list[-1 - i])\n",
    "        delta_list.reverse()\n",
    "        bias_gradient_list = []\n",
    "        for i in range(self.__layer_num):\n",
    "            bias_gradient = np.sum(delta_list[i], axis=0, keepdims=True) / len(x)\n",
    "            bias_gradient_list.append(bias_gradient)\n",
    "        weight_gradient_list = []\n",
    "        for i in range(self.__layer_num):\n",
    "            weight_gradient = np.dot(a_list[i].T, delta_list[i]) / len(x)\n",
    "            weight_gradient_list.append(weight_gradient)\n",
    "        return cost, weight_gradient_list, bias_gradient_list\n",
    "\n",
    "    def train(self, x, y, alpha=0.1, iteration_num=10000):\n",
    "        cost_list = []\n",
    "        for _ in range(iteration_num):\n",
    "            cost, weight_gradient_list, bias_gradient_list = self.__CostGradient(x, y)\n",
    "            cost_list.append(cost)\n",
    "            for i in range(self.__layer_num):\n",
    "                self.__weight_list[i] -= alpha * weight_gradient_list[i]\n",
    "                self.__bias_list[i] -= alpha * bias_gradient_list[i]\n",
    "        plt.plot(range(iteration_num), cost_list), plt.xlabel('iteration number'), plt.ylabel('cost')\n"
   ]
  },
  {
   "cell_type": "code",
   "execution_count": 70,
   "metadata": {},
   "outputs": [],
   "source": [
    "def ComputeAccuracy(net, x_test, y_test):\n",
    "    pred = net.predict(x_test)\n",
    "    temp = 0\n",
    "    row, column = pred.shape\n",
    "    for i in range(row):\n",
    "        for j in range(column):\n",
    "            if pred[i, j] >= 0.5:\n",
    "                pred[i, j] = 1\n",
    "            else:\n",
    "                pred[i, j] = 0\n",
    "        if (pred[i] == y_test[i]).all():\n",
    "            temp += 1\n",
    "    acc = temp / row\n",
    "    return acc"
   ]
  },
  {
   "cell_type": "code",
   "execution_count": 82,
   "metadata": {},
   "outputs": [],
   "source": [
    "def ReadData(filename):\n",
    "    f = open(filename, 'r')\n",
    "    dataset = f.readlines()\n",
    "    f.close()\n",
    "    for i in range(len(dataset)):\n",
    "        dataset[i] = dataset[i].rstrip().split(',')\n",
    "        for j in range(1,4):\n",
    "            dataset[i][j] = float(dataset[i][j])\n",
    "    random.shuffle(dataset)\n",
    "    test_dataset = dataset[:50]\n",
    "    train_dataset = dataset[50:]\n",
    "    x_train = []\n",
    "    y_train = []\n",
    "    for data in train_dataset:\n",
    "        x_train.append(data[:-1])\n",
    "        if data[5] == 20140501:\n",
    "            y_train.append([1, 0, 0])\n",
    "        if data[5] == 20140502:\n",
    "            y_train.append([0, 1, 0])\n",
    "        if data[5] == 20140503:\n",
    "            y_train.append([0, 0, 1])\n",
    "    x_train = np.array(x_train)\n",
    "    y_train = np.array(y_train)\n",
    "    x_test = []\n",
    "    y_test = []\n",
    "    for data in test_dataset:\n",
    "        x_test.append(data[:-1])\n",
    "        if data[5] == 20140501:\n",
    "            y_test.append([1, 0, 0])\n",
    "        if data[5] == 20140502:\n",
    "            y_test.append([0, 1, 0])\n",
    "        if data[5] == 20140503:\n",
    "            y_test.append([0, 0, 1])\n",
    "    x_test = np.array(x_test)\n",
    "    y_test = np.array(y_test)\n",
    "    return x_train, y_train, x_test, y_test"
   ]
  },
  {
   "cell_type": "code",
   "execution_count": 83,
   "metadata": {},
   "outputs": [],
   "source": [
    "def main1():\n",
    "    # read data\n",
    "    x_train, y_train, x_test, y_test = ReadData('data.txt')\n",
    "\n",
    "    # generate a neural network\n",
    "    net = NeuralNetwork([4, 20, 10, 3])\n",
    "\n",
    "    # train the neural network\n",
    "    net.train(x_train, y_train)\n",
    "\n",
    "    # compute the accuracy of net\n",
    "    acc = ComputeAccuracy(net, x_test, y_test)\n",
    "    print('Accuracy is:', acc)\n",
    "\n",
    "    # show image\n",
    "    plt.show()"
   ]
  },
  {
   "cell_type": "code",
   "execution_count": 84,
   "metadata": {},
   "outputs": [],
   "source": [
    "def main2():\n",
    "    # negerate a set of data\n",
    "    x = np.eye(10)\n",
    "    x = np.concatenate((x, x, x, x, x, x, x, x, x, x), axis=0)\n",
    "\n",
    "    # generate a autoencoder neural network,cells in input and output layers are more,but cells in hidden layer are less\n",
    "    # you can change cell number of hidden layer to any integer value less than 10\n",
    "    autoencoder_net = NeuralNetwork([10, 5, 10])\n",
    "\n",
    "    # train the neural network\n",
    "    autoencoder_net.train(x, x)\n",
    "\n",
    "    # compute the accuracy of net\n",
    "    acc = ComputeAccuracy(autoencoder_net, x, x)\n",
    "    print('Accuracy is:', acc)\n",
    "\n",
    "    # show image\n",
    "    plt.show()"
   ]
  },
  {
   "cell_type": "code",
   "execution_count": 85,
   "metadata": {},
   "outputs": [
    {
     "name": "stdout",
     "output_type": "stream",
     "text": [
      "Accuracy is: 0.94\n"
     ]
    },
    {
     "data": {
      "image/png": "[encoded data removed]",
      "text/plain": [
       "<Figure size 432x288 with 1 Axes>"
      ]
     },
     "metadata": {
      "needs_background": "light"
     },
     "output_type": "display_data"
    },
    {
     "name": "stdout",
     "output_type": "stream",
     "text": [
      "Accuracy is: 0.8\n"
     ]
    },
    {
     "data": {
      "image/png": "[encoded data removed]",
      "text/plain": [
       "<Figure size 432x288 with 1 Axes>"
      ]
     },
     "metadata": {
      "needs_background": "light"
     },
     "output_type": "display_data"
    }
   ],
   "source": [
    "if __name__ == '__main__':\n",
    "    main1()\n",
    "    main2()"
   ]
  },
  {
   "cell_type": "code",
   "execution_count": null,
   "metadata": {},
   "outputs": [],
   "source": []
  }
 ],
 "metadata": {
  "kernelspec": {
   "display_name": "Python 3",
   "language": "python",
   "name": "python3"
  },
  "language_info": {
   "codemirror_mode": {
    "name": "ipython",
    "version": 3
   },
   "file_extension": ".py",
   "mimetype": "text/x-python",
   "name": "python",
   "nbconvert_exporter": "python",
   "pygments_lexer": "ipython3",
   "version": "3.7.6"
  }
 },
 "nbformat": 4,
 "nbformat_minor": 4
}
